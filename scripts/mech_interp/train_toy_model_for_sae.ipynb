{
 "cells": [
  {
   "cell_type": "code",
   "execution_count": null,
   "id": "6bb337bf",
   "metadata": {},
   "outputs": [],
   "source": [
    "import torch\n",
    "from tqdm import tqdm\n",
    "\n",
    "from mech_interp import ToyModel\n",
    "from mech_interp.visualizations import plot_feature_directions\n",
    "from mech_interp.data_generators import SyntheticSparseDataGenerator\n",
    "from mech_interp.script_utils import create_uniform_sparsity, create_importance, weighted_mse_loss"
   ]
  },
  {
   "cell_type": "code",
   "execution_count": null,
   "id": "8c3b6538",
   "metadata": {},
   "outputs": [],
   "source": [
    "# ==== Parameters ====\n",
    "\n",
    "feature_dim = 5\n",
    "hidden_dim = 2\n",
    "\n",
    "importance_decay = 0.9\n",
    "sparsity = 0.9\n",
    "\n",
    "batch_size = 1024\n",
    "num_steps = 10_000\n",
    "learning_rate = 1e-3"
   ]
  },
  {
   "cell_type": "code",
   "execution_count": null,
   "id": "e90eb851",
   "metadata": {},
   "outputs": [],
   "source": [
    "device = torch.device(\"cuda\" if torch.cuda.is_available() else \"cpu\")"
   ]
  },
  {
   "cell_type": "code",
   "execution_count": null,
   "id": "956f6c89",
   "metadata": {},
   "outputs": [],
   "source": [
    "# ==== Set up ====\n",
    "\n",
    "uniform_sparsity = create_uniform_sparsity(feature_dim, sparsity)\n",
    "importance = create_importance(feature_dim, importance_decay).to(device)\n",
    "model = ToyModel(feature_dim, hidden_dim).to(device)\n",
    "data_generator = SyntheticSparseDataGenerator(batch_size=batch_size, sparsity=uniform_sparsity, device=device)"
   ]
  },
  {
   "cell_type": "code",
   "execution_count": null,
   "id": "fc67c711",
   "metadata": {},
   "outputs": [],
   "source": [
    "# ==== Training ====\n",
    "\n",
    "optimizer = torch.optim.AdamW(model.parameters(), lr=learning_rate)\n",
    "\n",
    "progress_bar = tqdm(range(num_steps))\n",
    "\n",
    "for step in progress_bar:\n",
    "    optimizer.zero_grad(set_to_none=True)\n",
    "\n",
    "    batch = data_generator.generate_batch()\n",
    "\n",
    "    output, _ = model(batch)\n",
    "\n",
    "    loss = weighted_mse_loss(output, batch, importance)\n",
    "    loss.backward()\n",
    "    optimizer.step()\n",
    "\n",
    "    progress_bar.set_postfix(loss=loss.item())"
   ]
  },
  {
   "cell_type": "code",
   "execution_count": null,
   "id": "413899e1",
   "metadata": {},
   "outputs": [],
   "source": [
    "# ==== Plot Feature Directions ====\n",
    "\n",
    "feature_directions = model.get_feature_directions().cpu()\n",
    "labels = [f'Sparsity = {sparsity:.3f}']\n",
    "fig = plot_feature_directions(feature_directions, labels, importance, eps=3e-2)\n",
    "fig.show()"
   ]
  },
  {
   "cell_type": "code",
   "execution_count": null,
   "id": "8ea0c90f",
   "metadata": {},
   "outputs": [],
   "source": [
    "torch.save(model.state_dict(), \"toy_model_for_sae.pth\")"
   ]
  }
 ],
 "metadata": {
  "kernelspec": {
   "display_name": "Python 3",
   "language": "python",
   "name": "python3"
  },
  "language_info": {
   "codemirror_mode": {
    "name": "ipython",
    "version": 3
   },
   "file_extension": ".py",
   "mimetype": "text/x-python",
   "name": "python",
   "nbconvert_exporter": "python",
   "pygments_lexer": "ipython3",
   "version": "3.11.12"
  }
 },
 "nbformat": 4,
 "nbformat_minor": 5
}
