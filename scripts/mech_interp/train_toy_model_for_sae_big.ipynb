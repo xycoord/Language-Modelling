{
 "cells": [
  {
   "cell_type": "code",
   "execution_count": null,
   "id": "6bb337bf",
   "metadata": {},
   "outputs": [],
   "source": [
    "import torch\n",
    "from tqdm import tqdm\n",
    "\n",
    "from mech_interp import ToyModel\n",
    "from mech_interp.visualizations import plot_feature_analysis\n",
    "from mech_interp.data_generators import SyntheticClusteredDataGenerator \n",
    "from mech_interp.script_utils import create_importance, weighted_mse_loss"
   ]
  },
  {
   "cell_type": "code",
   "execution_count": null,
   "id": "8c3b6538",
   "metadata": {},
   "outputs": [],
   "source": [
    "# ==== Parameters ====\n",
    "\n",
    "n_topics = 10\n",
    "\n",
    "feature_dim = 70 \n",
    "hidden_dim = 25\n",
    "\n",
    "alpha = 0.5\n",
    "beta_params = (0.15, 1.0)\n",
    "\n",
    "importance_decay = 0.99 # TODO: Investigate how this parameter affects the model\n",
    "\n",
    "batch_size = 1024\n",
    "num_steps = 10_000\n",
    "learning_rate = 1e-3"
   ]
  },
  {
   "cell_type": "code",
   "execution_count": null,
   "id": "e90eb851",
   "metadata": {},
   "outputs": [],
   "source": [
    "device = torch.device(\"cuda\" if torch.cuda.is_available() else \"cpu\")\n",
    "print(f\"Using device: {device}\")"
   ]
  },
  {
   "cell_type": "code",
   "execution_count": null,
   "id": "956f6c89",
   "metadata": {},
   "outputs": [],
   "source": [
    "# ==== Set up ====\n",
    "\n",
    "importance = create_importance(feature_dim, importance_decay).to(device)\n",
    "model = ToyModel(feature_dim, hidden_dim).to(device)\n",
    "data_generator = SyntheticClusteredDataGenerator(n_topics=n_topics, n_features=feature_dim, alpha=alpha, beta_params=beta_params, device=device)"
   ]
  },
  {
   "cell_type": "code",
   "execution_count": null,
   "id": "fc67c711",
   "metadata": {},
   "outputs": [],
   "source": [
    "# # ==== Training ====\n",
    "\n",
    "optimizer = torch.optim.AdamW(model.parameters(), lr=learning_rate)\n",
    "\n",
    "progress_bar = tqdm(range(num_steps))\n",
    "\n",
    "for step in progress_bar:\n",
    "    optimizer.zero_grad(set_to_none=True)\n",
    "\n",
    "    batch = data_generator.generate_batch(batch_size)\n",
    "\n",
    "    output, _ = model(batch)\n",
    "\n",
    "    loss = weighted_mse_loss(output, batch, importance)\n",
    "    loss.backward()\n",
    "    optimizer.step()\n",
    "\n",
    "    progress_bar.set_postfix(loss=loss.item())"
   ]
  },
  {
   "cell_type": "code",
   "execution_count": null,
   "id": "8ea0c90f",
   "metadata": {},
   "outputs": [],
   "source": [
    "torch.save(model.state_dict(), \"toy_model_for_sae_big.pth\")"
   ]
  },
  {
   "cell_type": "code",
   "execution_count": null,
   "id": "ab975cee",
   "metadata": {},
   "outputs": [],
   "source": [
    "model.load_state_dict(torch.load(\"toy_model_for_sae_big.pth\"))"
   ]
  },
  {
   "cell_type": "code",
   "execution_count": null,
   "id": "cf96af65",
   "metadata": {},
   "outputs": [],
   "source": [
    "# ==== Visualize Results ====\n",
    "\n",
    "weights = model.get_feature_directions()\n",
    "bias = model.get_bias()\n",
    "\n",
    "fig = plot_feature_analysis(weights, bias)\n",
    "fig.show()"
   ]
  }
 ],
 "metadata": {
  "kernelspec": {
   "display_name": "Python 3",
   "language": "python",
   "name": "python3"
  },
  "language_info": {
   "codemirror_mode": {
    "name": "ipython",
    "version": 3
   },
   "file_extension": ".py",
   "mimetype": "text/x-python",
   "name": "python",
   "nbconvert_exporter": "python",
   "pygments_lexer": "ipython3",
   "version": "3.11.11"
  }
 },
 "nbformat": 4,
 "nbformat_minor": 5
}
