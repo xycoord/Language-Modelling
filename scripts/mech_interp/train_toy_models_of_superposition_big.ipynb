{
 "cells": [
  {
   "cell_type": "code",
   "execution_count": null,
   "id": "6bb337bf",
   "metadata": {},
   "outputs": [],
   "source": [
    "import torch\n",
    "from tqdm import tqdm\n",
    "\n",
    "from mech_interp import ParallelToyModel\n",
    "from mech_interp.visualizations import plot_feature_analysis\n",
    "from mech_interp.data_generators import SyntheticSparseDataGenerator, create_sparsity_range\n",
    "from mech_interp.importance import importance_decay_by_ratio\n",
    "from mech_interp.loss import weighted_mse_loss"
   ]
  },
  {
   "cell_type": "code",
   "execution_count": null,
   "id": "8c3b6538",
   "metadata": {},
   "outputs": [],
   "source": [
    "# ==== Parameters ====\n",
    "\n",
    "feature_dim = 80 \n",
    "hidden_dim = 20\n",
    "\n",
    "importance_decay = 0.9\n",
    "min_sparsity = 0.0\n",
    "max_sparsity = 0.999\n",
    "\n",
    "num_models = 10\n",
    "batch_size = 1024\n",
    "num_steps = 10_000\n",
    "learning_rate = 1e-3"
   ]
  },
  {
   "cell_type": "code",
   "execution_count": null,
   "id": "e90eb851",
   "metadata": {},
   "outputs": [],
   "source": [
    "device = torch.device(\"cuda\" if torch.cuda.is_available() else \"cpu\")\n",
    "print(f\"Using device: {device}\")"
   ]
  },
  {
   "cell_type": "code",
   "execution_count": null,
   "id": "956f6c89",
   "metadata": {},
   "outputs": [],
   "source": [
    "# ==== Set up ====\n",
    "\n",
    "sparsity = create_sparsity_range(min_sparsity, max_sparsity, num_models, feature_dim)\n",
    "importance = importance_decay_by_ratio(feature_dim, importance_decay).to(device)\n",
    "model = ParallelToyModel(num_models, feature_dim, hidden_dim).to(device)\n",
    "data_generator = SyntheticSparseDataGenerator(batch_size=batch_size, sparsity=sparsity, device=device)"
   ]
  },
  {
   "cell_type": "code",
   "execution_count": null,
   "id": "fc67c711",
   "metadata": {},
   "outputs": [],
   "source": [
    "# ==== Training ====\n",
    "\n",
    "optimizer = torch.optim.AdamW(model.parameters(), lr=learning_rate)\n",
    "\n",
    "progress_bar = tqdm(range(num_steps))\n",
    "\n",
    "for step in progress_bar:\n",
    "    optimizer.zero_grad(set_to_none=True)\n",
    "\n",
    "    batch = data_generator.generate_batch()\n",
    "\n",
    "    output, _ = model(batch)\n",
    "\n",
    "    loss = weighted_mse_loss(output, batch, importance)\n",
    "    loss.backward()\n",
    "    optimizer.step()\n",
    "\n",
    "    progress_bar.set_postfix(loss=loss.item())"
   ]
  },
  {
   "cell_type": "code",
   "execution_count": null,
   "id": "8ea0c90f",
   "metadata": {},
   "outputs": [],
   "source": [
    "torch.save(model.state_dict(), \"toy_models_80.pth\")"
   ]
  },
  {
   "cell_type": "code",
   "execution_count": null,
   "id": "2cb40b04",
   "metadata": {},
   "outputs": [],
   "source": [
    "model.load_state_dict(torch.load(\"toy_models_80.pth\"))"
   ]
  },
  {
   "cell_type": "code",
   "execution_count": null,
   "id": "c72213bd",
   "metadata": {},
   "outputs": [],
   "source": [
    "# ==== Visualize Results ====\n",
    "\n",
    "weights = model.get_feature_directions()\n",
    "bias = model.get_bias()\n",
    "\n",
    "sparcity_list = [sparsity[i][0].item() for i in range(num_models)]\n",
    "labels = [f'Sparsity = {sparcity:.3f}' for sparcity in sparcity_list]\n",
    "\n",
    "fig = plot_feature_analysis(weights, bias, labels=labels)\n",
    "fig.show()"
   ]
  }
 ],
 "metadata": {
  "kernelspec": {
   "display_name": "Python 3",
   "language": "python",
   "name": "python3"
  },
  "language_info": {
   "codemirror_mode": {
    "name": "ipython",
    "version": 3
   },
   "file_extension": ".py",
   "mimetype": "text/x-python",
   "name": "python",
   "nbconvert_exporter": "python",
   "pygments_lexer": "ipython3",
   "version": "3.11.11"
  }
 },
 "nbformat": 4,
 "nbformat_minor": 5
}
